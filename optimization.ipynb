{
 "cells": [
  {
   "cell_type": "code",
   "execution_count": 58,
   "id": "23fcea4b-e546-4802-b47c-39c0e9fde7ed",
   "metadata": {},
   "outputs": [],
   "source": [
    "import numpy as np\n",
    "import pandas as pd\n",
    "from scipy.optimize import minimize\n",
    "\n",
    "from utils import plot_results"
   ]
  },
  {
   "cell_type": "markdown",
   "id": "d27528bd-e4ff-4973-9592-f98dc1f51e52",
   "metadata": {},
   "source": [
    "# Project: One-Mass Oscillator Optimization\n",
    "\n",
    "## Introduction\n",
    "\n",
    "In this project, various optimization algorithms will be applied to fit a one-mass oscillator model to real-world data. The objective is to minimize the sum of the squared residuals between the model predictions and the observed amplitudes of a one-mass oscillator system across different frequencies.\n",
    "\n",
    "### One-Mass Oscillator Model\n",
    "\n",
    "The one-mass oscillator is characterized by the following equation, representing the amplitudes of the system:\n",
    "\n",
    "$$ V(\\omega) = \\frac{F}{\\sqrt{(1 - \\nu^2)^2 + 4D^2\\nu^2}} $$\n",
    "\n",
    "Here, \n",
    "- $ \\omega $ represents the angular frequency of the system,\n",
    "- $ \\nu $ is the ratio of the excitation frequency to the natural frequency ($ \\nu = \\frac{\\omega_{\\text{err}}}{\\omega_{\\text{eig}}} $),\n",
    "- $ D $ is the damping ratio,\n",
    "- $ F $ is the force applied to the system.\n",
    "\n",
    "The goal of the project is to determine the optimal values for the parameters $ \\omega_{\\text{eig}} $, $ D $, and $ F $ that result in the best fit of the one-mass oscillator model to the observed amplitudes."
   ]
  },
  {
   "cell_type": "markdown",
   "id": "bc295e38-6a8c-4590-ab62-8d35e5851930",
   "metadata": {},
   "source": [
    "### Load the real world data\n",
    "\n",
    "- we have two different measurements\n",
    "- J represents the measured frequencies\n",
    "- N represents the measured amplitudes"
   ]
  },
  {
   "cell_type": "code",
   "execution_count": 9,
   "id": "83b761ef-8706-4205-b3f0-e1c32e5e8e28",
   "metadata": {},
   "outputs": [],
   "source": [
    "df1 = pd.read_pickle(\"./data/df1.pkl\")\n",
    "df2 = pd.read_pickle(\"./data/df2.pkl\")"
   ]
  },
  {
   "cell_type": "markdown",
   "id": "aef7f194-4341-4284-9006-c19277c0e922",
   "metadata": {},
   "source": [
    "### Low amplitudes distort the fit and are negligible therefore we define a lower threshold for N"
   ]
  },
  {
   "cell_type": "code",
   "execution_count": 10,
   "id": "69758887-68e6-4b30-ac7b-cd2ef98fe361",
   "metadata": {},
   "outputs": [],
   "source": [
    "# Define maximum threshold for removing low amplitudes\n",
    "max_threshold = 0.4 * max(df1[\"N\"])\n",
    "\n",
    "# Remove the low amplitude entries to avoid distortion in fitting\n",
    "df1 = df1[df1[\"N\"]>=max_threshold]\n",
    "df2 = df2[df2[\"N\"]>=max_threshold]"
   ]
  },
  {
   "cell_type": "markdown",
   "id": "d4a230bb-0bc6-4139-bfbf-ba9358fea61b",
   "metadata": {},
   "source": [
    "### We extract the frequency value for maximum value of the amplitude. This serves as the initial value for one decision variable"
   ]
  },
  {
   "cell_type": "code",
   "execution_count": 31,
   "id": "95743407-d54b-48df-b419-3d72fe9c3935",
   "metadata": {},
   "outputs": [],
   "source": [
    "df1_max = df1[df1[\"N\"]==max(df1[\"N\"])]\n",
    "df1_initial_eig = df1_max[\"J\"].values[0]\n",
    "df1_max_N = df1_max[\"N\"].values[0]\n",
    "\n",
    "df2_max = df2[df2[\"N\"]==max(df2[\"N\"])]\n",
    "df2_initial_eig = df2_max[\"J\"].values[0]\n",
    "df2_max_N = df2_max[\"N\"].values[0]"
   ]
  },
  {
   "cell_type": "markdown",
   "id": "ce77132a-dfb0-4bc4-8bd0-a7b239f826a9",
   "metadata": {},
   "source": [
    "### We also have to define the other two initial guesses"
   ]
  },
  {
   "cell_type": "code",
   "execution_count": 12,
   "id": "69edaf71-c31d-4aa2-84d0-7008e38d13c1",
   "metadata": {},
   "outputs": [],
   "source": [
    "# Initial guesses of force and damping ratio values\n",
    "initial_D = 0.006\n",
    "initial_F = 0.120\n",
    "\n",
    "df1_initial_values = [df1_initial_eig, initial_D, initial_F]\n",
    "df2_initial_values = [df2_initial_eig, initial_D, initial_F]"
   ]
  },
  {
   "cell_type": "markdown",
   "id": "1ad0e90d-267c-49c0-82a1-7ac5858c9d44",
   "metadata": {},
   "source": [
    "### Additionally we define the bounds for the decision variables"
   ]
  },
  {
   "cell_type": "code",
   "execution_count": 13,
   "id": "4ac63920-36ce-4d9a-ab08-a318bad32454",
   "metadata": {},
   "outputs": [],
   "source": [
    "# Define minimum and maximum frequency values for boundary condition\n",
    "df1_min_J = min(df1[\"J\"])\n",
    "df1_max_J = max(df1[\"J\"])\n",
    "\n",
    "df2_min_J = min(df2[\"J\"])\n",
    "df2_max_J = max(df2[\"J\"])"
   ]
  },
  {
   "cell_type": "code",
   "execution_count": 14,
   "id": "3be01117-bd78-4678-90cb-377bc032cd0a",
   "metadata": {},
   "outputs": [],
   "source": [
    "df1_bounds = [(df1_min_J, df1_max_J), (0, 0.03), (0, 1)]\n",
    "df2_bounds = [(df2_min_J, df2_max_J), (0, 0.03), (0, 1)]"
   ]
  },
  {
   "cell_type": "markdown",
   "id": "08452955-9ca6-4010-aeb6-7365b8424aee",
   "metadata": {},
   "source": [
    "### Then we define our one mass oscialltor and objective function"
   ]
  },
  {
   "cell_type": "code",
   "execution_count": 21,
   "id": "99362f27-c8a0-4dee-9651-27280c828cf5",
   "metadata": {},
   "outputs": [],
   "source": [
    "def one_mass_oscillator(params, J) -> np.ndarray:\n",
    "    # returns amplitudes of the system\n",
    "    # Defines the model of a one mass oscilator \n",
    "    eig, D, F = params\n",
    "    nue = J / eig\n",
    "    V = F / (np.sqrt((1 - nue**2) ** 2 + (4 * D**2 * nue**2)))\n",
    "    return V"
   ]
  },
  {
   "cell_type": "code",
   "execution_count": 22,
   "id": "e8952a36-50cf-48dc-9ca1-589aa25ad56c",
   "metadata": {},
   "outputs": [],
   "source": [
    "def objective_function(params, J, N) -> np.ndarray:\n",
    "    # sum of squared errors to compare calculated and real amplitudes\n",
    "    return np.sum((N - one_mass_oscillator(params, J)) ** 2)"
   ]
  },
  {
   "cell_type": "markdown",
   "id": "9a8146e2-5e92-45bf-9ed9-24bdf0eb713a",
   "metadata": {},
   "source": [
    "### Define gradient function of objective function for optimizers that require gradient matrix "
   ]
  },
  {
   "cell_type": "code",
   "execution_count": 16,
   "id": "1d46b78e-08b0-43cc-a5b2-47aa02fd43d0",
   "metadata": {},
   "outputs": [],
   "source": [
    "def gradient(params, J, N):\n",
    "    eig, D, F = params\n",
    "    nue = J / eig\n",
    "\n",
    "    u = (1 - nue**2) ** 2 + (4 * D**2 * nue**2)\n",
    "    dfdF = np.sum(-2 / np.sqrt(u))\n",
    "    dfdD = np.sum((8 * F * D * nue**2) / (np.sqrt(u ** 3)))\n",
    "    dfdeig = np.sum((4 * (nue**2 - nue**4 - 2 * nue**2 * D**2)) / (eig * np.sqrt(u ** 3)))\n",
    "\n",
    "    return np.array([dfdF, dfdD, dfdeig])"
   ]
  },
  {
   "cell_type": "markdown",
   "id": "7bbb87fb-db72-4c4e-a98d-3573dda151e0",
   "metadata": {},
   "source": [
    "### Define hessian function of objective function for optimizers that require hessian matrix "
   ]
  },
  {
   "cell_type": "code",
   "execution_count": 17,
   "id": "482515b3-c2c7-4a62-b6be-a59499bb8f53",
   "metadata": {},
   "outputs": [],
   "source": [
    "def hessian(params, J, N):\n",
    "    eig, D, F = params\n",
    "    nue = J / eig\n",
    "\n",
    "    u = (1 - nue**2) ** 2 + (4 * D**2 * nue**2)\n",
    "    du = (nue**2 - nue**4 - 2 * nue**2 * D**2)\n",
    "    d2fdF = 0\n",
    "    d2fdFD = np.sum((8 * D * nue**2) / (np.sqrt(u ** 3)))\n",
    "    d2fdFeig = np.sum((4 * du) / (eig * np.sqrt(u ** 3)))\n",
    "    d2fdDF = d2fdFD\n",
    "    d2fdD = np.sum(8 * nue**2 * F - ((192 * D**2 * nue**4 * F) / u))\n",
    "    d2fdDeig = np.sum((16 * F * D * nue**2 / eig) * (-1 - (6 * du) / u))\n",
    "    d2fdeigF = d2fdFeig\n",
    "    d2fdeigD = d2fdDeig\n",
    "    d2fdeig = np.sum(((20 * nue**4 - 12 * nue**2 + 24 * nue**2 * D**2) / eig**2)  - ((48 * du ** 2) / (eig * u)))\n",
    "\n",
    "    return np.array([[d2fdF, d2fdFD, d2fdFeig],[d2fdDF, d2fdD, d2fdDeig],[d2fdeigF, d2fdeigD, d2fdeig]])"
   ]
  },
  {
   "cell_type": "markdown",
   "id": "ca4e6a1b-d4c4-4d7e-8d66-368e034ab38c",
   "metadata": {},
   "source": [
    "### Extract the frequency and amplitude from the dataframes"
   ]
  },
  {
   "cell_type": "code",
   "execution_count": 18,
   "id": "b9a16bbd-9725-4881-b32c-3cb2ea97779d",
   "metadata": {},
   "outputs": [],
   "source": [
    "df1_J = np.array(df1[\"J\"])\n",
    "df1_N = np.array(df1[\"N\"])\n",
    "\n",
    "df2_J = np.array(df2[\"J\"])\n",
    "df2_N = np.array(df2[\"N\"])"
   ]
  },
  {
   "cell_type": "markdown",
   "id": "aae5c1cb-b1ba-4fe0-b5e1-b6938a2fee31",
   "metadata": {},
   "source": [
    "### Generate the frequencies to fit the one mass oscillator"
   ]
  },
  {
   "cell_type": "code",
   "execution_count": 35,
   "id": "17cd9fe3-a78f-4eec-8f0a-bbc57b0c09f8",
   "metadata": {},
   "outputs": [],
   "source": [
    "df1_J_pred = np.linspace(df1_min_J, df1_max_J, 1000)\n",
    "df2_J_pred = np.linspace(df2_min_J, df2_max_J, 1000)"
   ]
  },
  {
   "cell_type": "markdown",
   "id": "e0efc081-e148-4e7f-a411-8b81483af081",
   "metadata": {},
   "source": [
    "### Define the options and start the optimizations (Nelder-Mead)"
   ]
  },
  {
   "cell_type": "code",
   "execution_count": 36,
   "id": "56f59e8d-9bdd-42f0-a770-939dc1c8d257",
   "metadata": {},
   "outputs": [],
   "source": [
    "options = {\n",
    "    \"maxiter\": 100000,\n",
    "    \"fatol\": 1e-9,\n",
    "    \"xatol\": 1e-9,\n",
    "}\n",
    "\n",
    "df1_result = minimize(objective_function, df1_initial_values, args=(df1_J, df1_N), method='Nelder-Mead', bounds=df1_bounds, options=options)\n",
    "df2_result = minimize(objective_function, df2_initial_values, args=(df2_J, df2_N), method='Nelder-Mead', bounds=df2_bounds, options=options)"
   ]
  },
  {
   "cell_type": "code",
   "execution_count": 41,
   "id": "39be1e68-4481-4c29-8b46-5a12e607a918",
   "metadata": {},
   "outputs": [],
   "source": [
    "df1_resonant_frequency = df1_result.x[0]\n",
    "df1_D = df1_result.x[1]\n",
    "df1_F = df1_result.x[2]\n",
    "\n",
    "# predict the resonant amplitude with the fitted one mass oscillator.\n",
    "df1_one_mass_oscillator = one_mass_oscillator(df1_result.x, df1_J_pred)\n",
    "df1_resonant_amplitude = max(df1_one_mass_oscillator)\n",
    "\n",
    "df2_resonant_frequency = df2_result.x[0]\n",
    "df2_D = df2_result.x[1]\n",
    "df2_F = df2_result.x[2]\n",
    "\n",
    "# predict the resonant amplitude with the fitted one mass oscillator.\n",
    "df2_one_mass_oscillator = one_mass_oscillator(df2_result.x, df2_J_pred)\n",
    "df2_resonant_amplitude = max(df2_one_mass_oscillator)"
   ]
  },
  {
   "cell_type": "code",
   "execution_count": 59,
   "id": "3998cccd-2f7c-45db-9b52-58f1693b87bf",
   "metadata": {},
   "outputs": [
    {
     "data": {
      "image/png": "[encoded data removed]",
      "text/plain": [
       "<Figure size 1500x500 with 2 Axes>"
      ]
     },
     "metadata": {},
     "output_type": "display_data"
    }
   ],
   "source": [
    "plot_results(\n",
    "    [df1,df2], \n",
    "    [df1_initial_eig, df1_initial_eig], \n",
    "    [df1_max_N, df2_max_N], \n",
    "    [df1_J_pred, df2_J_pred], \n",
    "    [df1_one_mass_oscillator, df2_one_mass_oscillator],\n",
    "    [df1_resonant_frequency, df2_resonant_frequency],\n",
    "    [df1_resonant_amplitude, df2_resonant_amplitude]\n",
    ")"
   ]
  },
  {
   "cell_type": "code",
   "execution_count": 33,
   "id": "d6d708fc-d51a-4c2d-a62f-9a2e21fd8440",
   "metadata": {},
   "outputs": [],
   "source": [
    "# Think about how to implement other optimizers without repeating  the same thing (ex: extract the argumnts as dictionary to another file)\n",
    "# - Nelder-Mead\n",
    "# - Powell\n",
    "# - Differential Evolution\n",
    "# - Simulated Annealing\n",
    "# - BFGS\n",
    "# - Newton-CG\n",
    "# - CG\n",
    "# options = {\n",
    "#         \"Powell\": {\n",
    "#             \"disp\": True,\n",
    "#             \"maxiter\": 100000,\n",
    "#             \"ftol\": 1e-9,\n",
    "#             \"xtol\": 1e-9,\n",
    "#         },\n",
    "#         \"CG\": {\n",
    "#             \"disp\": True,\n",
    "#             \"maxiter\": 100000,\n",
    "#             \"gtol\": 1e-9,\n",
    "#         }, \n",
    "#         \"BFGS\": {\n",
    "#             \"disp\": True,\n",
    "#             \"maxiter\": 100000,\n",
    "#             \"gtol\": 1e-9,\n",
    "#         }, \n",
    "#         \"Newton-CG\": {\n",
    "#             \"disp\": True,\n",
    "#             \"maxiter\": 100000,\n",
    "#             \"xtol\": 1e-9,\n",
    "#         }, \n",
    "#     }\n",
    "# ypred_one_mass_oscillator = one_mass_oscillator(result.x, X_pred)\n",
    "# resonant_amplitude = max(ypred_one_mass_oscillator)\n",
    "# Get the results of the optimizers\n",
    "# Generate the data using the results\n",
    "# Plot the results"
   ]
  },
  {
   "cell_type": "code",
   "execution_count": null,
   "id": "1f986eb0-b528-4ac9-a192-3c1baaebb095",
   "metadata": {},
   "outputs": [],
   "source": []
  }
 ],
 "metadata": {
  "kernelspec": {
   "display_name": "Python 3 (ipykernel)",
   "language": "python",
   "name": "python3"
  },
  "language_info": {
   "codemirror_mode": {
    "name": "ipython",
    "version": 3
   },
   "file_extension": ".py",
   "mimetype": "text/x-python",
   "name": "python",
   "nbconvert_exporter": "python",
   "pygments_lexer": "ipython3",
   "version": "3.11.5"
  }
 },
 "nbformat": 4,
 "nbformat_minor": 5
}
